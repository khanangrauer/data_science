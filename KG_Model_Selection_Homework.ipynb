{
 "cells": [
  {
   "cell_type": "markdown",
   "metadata": {},
   "source": [
    "This time we employ the cross validation to figure out the best model for spam filter.\n",
    "\n",
    "**Remark** The objective functions for logistic regression implemented in `sklearn` are:\n",
    "<img src=\"L1.png\">\n",
    "and\n",
    "<img src=\"L2.png\">\n",
    "\n",
    "where\n",
    "- $w$ are the coefficients, which was denoted by $\\beta_i$ in the class.\n",
    "- $c$ is the intercept, which was denoted by $\\beta_0$ in the class. We can change the parameter \"fit_intercept\" to keep or remove it.\n",
    "- $C$ is the inverse of regularization strength. This is opposite to the $\\alpha$ we used in Ridge and Lasso. Smaller values specify stronger regularization.\n",
    "- Therefore the first objective function is of $L_1$ panelty and the second of $L_2$."
   ]
  },
  {
   "cell_type": "markdown",
   "metadata": {},
   "source": [
    "### Problem 1\n",
    "Use the class <code>GridSearchCV</code> to find out the best combination of parameter for logistic regression. (Set <code>cv=5</code> and <code>scoring='accuracy'</code>). "
   ]
  },
  {
   "cell_type": "code",
   "execution_count": 1,
   "metadata": {
    "collapsed": true
   },
   "outputs": [],
   "source": [
    "from __future__ import print_function\n",
    "import pandas as pd\n",
    "import numpy as np\n",
    "\n",
    "spam_train_df = pd.read_csv('data/spam_train.csv')\n",
    "x_train = spam_train_df.iloc[:, :57].values\n",
    "y_train = spam_train_df.iloc[:, -1].values\n",
    "\n",
    "\n",
    "spam_test_df = pd.read_csv('data/spam_test.csv')\n",
    "x_test = spam_test_df.iloc[:, :57].values\n",
    "y_test = spam_test_df.iloc[:, -1].values"
   ]
  },
  {
   "cell_type": "code",
   "execution_count": 2,
   "metadata": {
    "collapsed": true
   },
   "outputs": [],
   "source": [
    "para_grid = [{\n",
    "    'penalty': ['l1', 'l2'],\n",
    "    'fit_intercept': [False, True],\n",
    "    'C': np.logspace(-5, 5, 100)\n",
    "}]\n",
    "\n",
    "# Your solution\n",
    "from sklearn.model_selection import GridSearchCV\n",
    "from sklearn import linear_model\n",
    "logit = linear_model.LogisticRegression()\n",
    "\n",
    "para_search = GridSearchCV(estimator=logit, param_grid=para_grid, scoring='accuracy', cv=5).fit(x_train, y_train)"
   ]
  },
  {
   "cell_type": "markdown",
   "metadata": {},
   "source": [
    "    - What's the best combination?\n",
    "    - What's the best score?\n",
    "    - Refit the best estimator on the whole data set. How many coefficients were reduced to 0?(Hint: the absolute value of coefficients that are smaller than 1e-4.) \n",
    "    - What's the corresponding training error and test error? (Training error is the model performance on spam_train, while test error is the performance on spam_test.)"
   ]
  },
  {
   "cell_type": "code",
   "execution_count": 3,
   "metadata": {},
   "outputs": [
    {
     "name": "stdout",
     "output_type": "stream",
     "text": [
      "Best Parameters: {'C': 46.415888336127821, 'fit_intercept': True, 'penalty': 'l1'}\n",
      "Best Score:      0.928695652173913\n",
      "# of Lowest Coefficients: 27\n",
      "Training Error: 0.0621739130434783\n",
      "Test Error:     0.07083876575402004\n"
     ]
    }
   ],
   "source": [
    "### your solution\n",
    "print(\"Best Parameters: {}\".format(para_search.best_params_))\n",
    "print(\"Best Score:      {}\".format(para_search.best_score_))\n",
    "\n",
    "logit_best = para_search.best_estimator_\n",
    "logit_best.fit(x_train,y_train)\n",
    "\n",
    "lowest_coefficients = logit_best.coef_[1e-4>=logit_best.coef_]\n",
    "print(\"# of Lowest Coefficients: {}\".format(len(lowest_coefficients)))\n",
    "\n",
    "print(\"Training Error: {}\".format(1 - logit_best.score(x_train,y_train)))\n",
    "print(\"Test Error:     {}\".format(1 - logit_best.score(x_test,y_test)))"
   ]
  },
  {
   "cell_type": "markdown",
   "metadata": {},
   "source": [
    "### Problem 2\n",
    "\n",
    "Set *scoring = 'roc_auc'* and search again, what's the best parameters? Fit the best estimator on the spam_train data set. What's the training error and test error?"
   ]
  },
  {
   "cell_type": "code",
   "execution_count": 4,
   "metadata": {},
   "outputs": [
    {
     "name": "stdout",
     "output_type": "stream",
     "text": [
      "Best Parameters: {'C': 1.4174741629268048, 'fit_intercept': True, 'penalty': 'l1'}\n",
      "Training Error: 0.06391304347826088\n",
      "Test Error:     0.07170795306388522\n"
     ]
    }
   ],
   "source": [
    "### your solution\n",
    "y_train_to_binary = (y_train == \"email\").astype(int)\n",
    "y_test_to_binary = (y_test == \"email\").astype(int)\n",
    "\n",
    "para_search = GridSearchCV(estimator=logit, param_grid=para_grid, scoring='roc_auc', cv=5).fit(x_train, y_train_to_binary)\n",
    "print(\"Best Parameters: {}\".format(para_search.best_params_))\n",
    "\n",
    "roc_auc_best = para_search.best_estimator_\n",
    "roc_auc_best.fit(x_train,y_train_to_binary)\n",
    "\n",
    "print(\"Training Error: {}\".format(1 - roc_auc_best.score(x_train,y_train_to_binary)))\n",
    "print(\"Test Error:     {}\".format(1 - roc_auc_best.score(x_test,y_test_to_binary)))"
   ]
  },
  {
   "cell_type": "markdown",
   "metadata": {},
   "source": [
    "### Problem 3\n",
    "\n",
    "In this exercise, we will predict the number of applications received(*Apps*) using the other variables in the College data set.\n",
    "\n",
    "The features and the target variable are prepared as $x$ and $y$."
   ]
  },
  {
   "cell_type": "code",
   "execution_count": 5,
   "metadata": {},
   "outputs": [
    {
     "name": "stdout",
     "output_type": "stream",
     "text": [
      "(777, 18)\n"
     ]
    },
    {
     "data": {
      "text/html": [
       "<div>\n",
       "<style>\n",
       "    .dataframe thead tr:only-child th {\n",
       "        text-align: right;\n",
       "    }\n",
       "\n",
       "    .dataframe thead th {\n",
       "        text-align: left;\n",
       "    }\n",
       "\n",
       "    .dataframe tbody tr th {\n",
       "        vertical-align: top;\n",
       "    }\n",
       "</style>\n",
       "<table border=\"1\" class=\"dataframe\">\n",
       "  <thead>\n",
       "    <tr style=\"text-align: right;\">\n",
       "      <th></th>\n",
       "      <th>Private</th>\n",
       "      <th>Apps</th>\n",
       "      <th>Accept</th>\n",
       "      <th>Enroll</th>\n",
       "      <th>Top10perc</th>\n",
       "      <th>Top25perc</th>\n",
       "      <th>F.Undergrad</th>\n",
       "      <th>P.Undergrad</th>\n",
       "      <th>Outstate</th>\n",
       "      <th>Room.Board</th>\n",
       "      <th>Books</th>\n",
       "      <th>Personal</th>\n",
       "      <th>PhD</th>\n",
       "      <th>Terminal</th>\n",
       "      <th>S.F.Ratio</th>\n",
       "      <th>perc.alumni</th>\n",
       "      <th>Expend</th>\n",
       "      <th>Grad.Rate</th>\n",
       "    </tr>\n",
       "  </thead>\n",
       "  <tbody>\n",
       "    <tr>\n",
       "      <th>0</th>\n",
       "      <td>Yes</td>\n",
       "      <td>1660</td>\n",
       "      <td>1232</td>\n",
       "      <td>721</td>\n",
       "      <td>23</td>\n",
       "      <td>52</td>\n",
       "      <td>2885</td>\n",
       "      <td>537</td>\n",
       "      <td>7440</td>\n",
       "      <td>3300</td>\n",
       "      <td>450</td>\n",
       "      <td>2200</td>\n",
       "      <td>70</td>\n",
       "      <td>78</td>\n",
       "      <td>18.1</td>\n",
       "      <td>12</td>\n",
       "      <td>7041</td>\n",
       "      <td>60</td>\n",
       "    </tr>\n",
       "    <tr>\n",
       "      <th>1</th>\n",
       "      <td>Yes</td>\n",
       "      <td>2186</td>\n",
       "      <td>1924</td>\n",
       "      <td>512</td>\n",
       "      <td>16</td>\n",
       "      <td>29</td>\n",
       "      <td>2683</td>\n",
       "      <td>1227</td>\n",
       "      <td>12280</td>\n",
       "      <td>6450</td>\n",
       "      <td>750</td>\n",
       "      <td>1500</td>\n",
       "      <td>29</td>\n",
       "      <td>30</td>\n",
       "      <td>12.2</td>\n",
       "      <td>16</td>\n",
       "      <td>10527</td>\n",
       "      <td>56</td>\n",
       "    </tr>\n",
       "    <tr>\n",
       "      <th>2</th>\n",
       "      <td>Yes</td>\n",
       "      <td>1428</td>\n",
       "      <td>1097</td>\n",
       "      <td>336</td>\n",
       "      <td>22</td>\n",
       "      <td>50</td>\n",
       "      <td>1036</td>\n",
       "      <td>99</td>\n",
       "      <td>11250</td>\n",
       "      <td>3750</td>\n",
       "      <td>400</td>\n",
       "      <td>1165</td>\n",
       "      <td>53</td>\n",
       "      <td>66</td>\n",
       "      <td>12.9</td>\n",
       "      <td>30</td>\n",
       "      <td>8735</td>\n",
       "      <td>54</td>\n",
       "    </tr>\n",
       "    <tr>\n",
       "      <th>3</th>\n",
       "      <td>Yes</td>\n",
       "      <td>417</td>\n",
       "      <td>349</td>\n",
       "      <td>137</td>\n",
       "      <td>60</td>\n",
       "      <td>89</td>\n",
       "      <td>510</td>\n",
       "      <td>63</td>\n",
       "      <td>12960</td>\n",
       "      <td>5450</td>\n",
       "      <td>450</td>\n",
       "      <td>875</td>\n",
       "      <td>92</td>\n",
       "      <td>97</td>\n",
       "      <td>7.7</td>\n",
       "      <td>37</td>\n",
       "      <td>19016</td>\n",
       "      <td>59</td>\n",
       "    </tr>\n",
       "    <tr>\n",
       "      <th>4</th>\n",
       "      <td>Yes</td>\n",
       "      <td>193</td>\n",
       "      <td>146</td>\n",
       "      <td>55</td>\n",
       "      <td>16</td>\n",
       "      <td>44</td>\n",
       "      <td>249</td>\n",
       "      <td>869</td>\n",
       "      <td>7560</td>\n",
       "      <td>4120</td>\n",
       "      <td>800</td>\n",
       "      <td>1500</td>\n",
       "      <td>76</td>\n",
       "      <td>72</td>\n",
       "      <td>11.9</td>\n",
       "      <td>2</td>\n",
       "      <td>10922</td>\n",
       "      <td>15</td>\n",
       "    </tr>\n",
       "  </tbody>\n",
       "</table>\n",
       "</div>"
      ],
      "text/plain": [
       "  Private  Apps  Accept  Enroll  Top10perc  Top25perc  F.Undergrad  \\\n",
       "0     Yes  1660    1232     721         23         52         2885   \n",
       "1     Yes  2186    1924     512         16         29         2683   \n",
       "2     Yes  1428    1097     336         22         50         1036   \n",
       "3     Yes   417     349     137         60         89          510   \n",
       "4     Yes   193     146      55         16         44          249   \n",
       "\n",
       "   P.Undergrad  Outstate  Room.Board  Books  Personal  PhD  Terminal  \\\n",
       "0          537      7440        3300    450      2200   70        78   \n",
       "1         1227     12280        6450    750      1500   29        30   \n",
       "2           99     11250        3750    400      1165   53        66   \n",
       "3           63     12960        5450    450       875   92        97   \n",
       "4          869      7560        4120    800      1500   76        72   \n",
       "\n",
       "   S.F.Ratio  perc.alumni  Expend  Grad.Rate  \n",
       "0       18.1           12    7041         60  \n",
       "1       12.2           16   10527         56  \n",
       "2       12.9           30    8735         54  \n",
       "3        7.7           37   19016         59  \n",
       "4       11.9            2   10922         15  "
      ]
     },
     "execution_count": 5,
     "metadata": {},
     "output_type": "execute_result"
    }
   ],
   "source": [
    "import pandas as pd\n",
    "college = pd.read_csv('data/college.csv')\n",
    "x = college.iloc[:, 2:]\n",
    "y = college.iloc[:, 1]\n",
    "print(college.shape)\n",
    "college.head()"
   ]
  },
  {
   "cell_type": "markdown",
   "metadata": {},
   "source": [
    "- (1) Split this data into a training set and a test set with train_size=0.5.(Hint: Use the function **sklearn.cross_validation.train_test_split** , set *random_state=0* and *tran_size=0.5*.)\n",
    "\n",
    "- (2) Fit a linear model on the training set and report the training error and test error(mean squared error, you can use the function *sklearn.metrics.mean_squared_error*).\n",
    "\n",
    "- (3) Fit a ridge regression on the training set, with $\\alpha$ chosen by the cross validation. Report the training error and test error.\n",
    "\n",
    "- (4) Fit a lasso on the training set, with $\\alpha$ chosen by the cross validation. Report the training error and test error\n",
    "\n",
    "- (5) Compare the results obtained, what do you find?"
   ]
  },
  {
   "cell_type": "code",
   "execution_count": 6,
   "metadata": {},
   "outputs": [
    {
     "name": "stdout",
     "output_type": "stream",
     "text": [
      "Logit Train Error: 0.005154639175257714\n",
      "Logit Test Error:  1.0\n",
      "Mean Squared Error: 843.0360824742268\n",
      "Ridge STD chosen: 0.02084579049336999\n",
      "Ridge Train Error: 0.07346621434320233\n",
      "Rdige Test Error:  0.08463722096531667\n",
      "Lasso STD chosen: 0.02084673965401931\n",
      "Lasso Train Error: 0.0788493453638105\n",
      "Lasso Test Error:  0.06527547195489669\n",
      "Results: Logit performed perfectly with train data but failed completely on test data. Ridge had best results for both train & test data. Lasso came in second place.\n"
     ]
    }
   ],
   "source": [
    "### your solution\n",
    "import sklearn.model_selection as ms\n",
    "from sklearn import linear_model\n",
    "from sklearn import metrics\n",
    "\n",
    "x_train, x_test, y_train, y_test = ms.train_test_split(x, y, test_size=0.5, random_state=0)\n",
    "\n",
    "logit = linear_model.LogisticRegression()\n",
    "logit.fit(x_train,y_train)\n",
    "\n",
    "print(\"Logit Train Error: {}\".format(1 - logit.score(x_train,y_train)))\n",
    "print(\"Logit Test Error:  {}\".format(1 - logit.score(x_test,y_test)))\n",
    "\n",
    "print(\"Mean Squared Error: {}\".format(metrics.mean_squared_error(logit.predict(x_train),y_train)))\n",
    "\n",
    "# ridge = linear_model.Ridge(alpha = 1)\n",
    "ridge = linear_model.Ridge(alpha = 1)\n",
    "ridge.fit(x_train,y_train)\n",
    "\n",
    "random_divide = ms.KFold(n_splits=5)\n",
    "ridge_scores = ms.cross_val_score(estimator=ridge, X=x, y=y, cv=random_divide)\n",
    "print(\"Ridge STD chosen: {}\".format(ridge_scores.std()))\n",
    "\n",
    "ridge_new_alpha = linear_model.Ridge(alpha = ridge_scores.std())\n",
    "ridge_new_alpha.fit(x_train,y_train)\n",
    "print(\"Ridge Train Error: {}\".format(1 - ridge_new_alpha.score(x_train,y_train)))\n",
    "print(\"Rdige Test Error:  {}\".format(1 - ridge_new_alpha.score(x_test,y_test)))\n",
    "\n",
    "lasso = linear_model.Lasso(alpha=1) \n",
    "lasso.fit(x, y) \n",
    "lasso_scores = ms.cross_val_score(estimator=lasso, X=x, y=y, cv=random_divide)\n",
    "print(\"Lasso STD chosen: {}\".format(lasso_scores.std()))\n",
    "lasso_new_alpha = linear_model.Lasso(alpha=lasso_scores.std())\n",
    "lasso_new_alpha.fit(x,y)\n",
    "print(\"Lasso Train Error: {}\".format(1 - lasso_new_alpha.score(x_train,y_train)))\n",
    "print(\"Lasso Test Error:  {}\".format(1 - lasso_new_alpha.score(x_test,y_test)))\n",
    "\n",
    "print(\"Results: Logit performed perfectly with train data but failed completely \\\n",
    "on test data. Ridge had best results for both train & test data. Lasso came in second place.\")"
   ]
  },
  {
   "cell_type": "markdown",
   "metadata": {},
   "source": [
    "### Problem 4\n",
    "This time  we will try to predict the variable *Private* using the other variables in the College data set. The features and target variable are prepared for you."
   ]
  },
  {
   "cell_type": "code",
   "execution_count": 7,
   "metadata": {
    "collapsed": true
   },
   "outputs": [],
   "source": [
    "x = college.iloc[:, 1:]\n",
    "y = college.iloc[:, 0]"
   ]
  },
  {
   "cell_type": "markdown",
   "metadata": {},
   "source": [
    "- (1) Split this data into a training set and a test set with train_size=0.5(Hint: Use the function **sklearn.cross_validation.train_test_split** , set *random_state=1* and *tran_size=0.5*.)]\n",
    "\n",
    "- (2) Fit a logistic regression with regularizaton. Use the function **GridSearchCV** to fint out the best parameters."
   ]
  },
  {
   "cell_type": "code",
   "execution_count": 10,
   "metadata": {},
   "outputs": [],
   "source": [
    "from sklearn import cross_validation\n",
    "\n",
    "x_train, x_test, y_train, y_test = cross_validation.train_test_split(x, y, train_size=0.5, random_state=1)\n",
    "grid_para_logit = [{'penalty': ['l1', 'l2'], 'C': np.logspace(-5, 5, 100)}]\n",
    "para_search = GridSearchCV(estimator=logit, param_grid=grid_para_logit, scoring='accuracy', cv=5).fit(x_train, y_train)\n",
    "\n"
   ]
  },
  {
   "cell_type": "markdown",
   "metadata": {},
   "source": [
    "    - What's the best parameters?\n",
    "    - Refit the model on the training set with best parameters. What's the training error and test error?\n",
    "    \n",
    "- (3) Fit a KNN model. Use the function **GridSearchCV** to fint out the appropriate parameter *n_neighbors*. Refit the model on the training set and report the training error and test error.\n",
    "\n",
    "- (4) Compare the results of logistic regression and KNN."
   ]
  },
  {
   "cell_type": "code",
   "execution_count": 13,
   "metadata": {},
   "outputs": [
    {
     "name": "stdout",
     "output_type": "stream",
     "text": [
      "Best Parameters: {'n_neighbors': 24}\n",
      "Logit Training Error: 0.05670103092783507\n",
      "Logit Test Error:     0.06683804627249357\n",
      "KNN Training Error: 0.05670103092783507\n",
      "KNN Test Error:     0.06683804627249357\n",
      "Results: The results are identical between both models.\n"
     ]
    }
   ],
   "source": [
    "### your solution\n",
    "print(\"Best Parameters: {}\".format(para_search.best_params_))\n",
    "\n",
    "update_logit = para_search.best_estimator_\n",
    "update_logit.fit(x_train,y_train)\n",
    "print(\"Logit Training Error: {}\".format(1 - update_logit.score(x_train,y_train)))\n",
    "print(\"Logit Test Error:     {}\".format(1 - update_logit.score(x_test,y_test)))\n",
    "\n",
    "from sklearn import neighbors\n",
    "knn = neighbors.KNeighborsClassifier()\n",
    "knn_grid_param = [{'n_neighbors': range(3, 31)}]\n",
    "\n",
    "para_search = GridSearchCV(estimator=knn, param_grid=knn_grid_param, scoring='accuracy', cv=5).fit(x_train,y_train)\n",
    "update_knn = para_search.best_estimator_\n",
    "update_knn.fit(x_train,y_train)\n",
    "\n",
    "print(\"KNN Training Error: {}\".format(1 - update_knn.score(x_train,y_train)))\n",
    "print(\"KNN Test Error:     {}\".format(1 - update_knn.score(x_test,y_test)))\n",
    "\n",
    "print(\"Results: The results are identical between both models.\")"
   ]
  }
 ],
 "metadata": {
  "kernelspec": {
   "display_name": "Python 3",
   "language": "python",
   "name": "python3"
  },
  "language_info": {
   "codemirror_mode": {
    "name": "ipython",
    "version": 3
   },
   "file_extension": ".py",
   "mimetype": "text/x-python",
   "name": "python",
   "nbconvert_exporter": "python",
   "pygments_lexer": "ipython3",
   "version": "3.6.1"
  }
 },
 "nbformat": 4,
 "nbformat_minor": 1
}
